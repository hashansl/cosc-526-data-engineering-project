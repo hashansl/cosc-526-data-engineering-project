{
 "cells": [
  {
   "cell_type": "markdown",
   "metadata": {},
   "source": [
    "#### Training vector-based models"
   ]
  },
  {
   "cell_type": "code",
   "execution_count": 5,
   "metadata": {},
   "outputs": [],
   "source": [
    "import pandas as pd\n",
    "import numpy as np\n",
    "from collections import defaultdict, namedtuple\n",
    "import re\n",
    "from tqdm.auto import tqdm\n",
    "\n",
    "from nltk.tokenize import word_tokenize\n",
    "\n",
    "from gensim.models.doc2vec import Doc2Vec, TaggedDocument\n",
    "from gensim.models.callbacks import CallbackAny2Vec\n",
    "\n",
    "from sklearn.model_selection import StratifiedKFold\n",
    "from sklearn.feature_extraction.text import TfidfVectorizer\n",
    "from sklearn.decomposition import TruncatedSVD\n",
    "\n",
    "import tensorflow as tf\n",
    "# import tensorflow.keras as K\n",
    "from tensorflow.keras import layers\n",
    "from tensorflow.keras.models import Sequential\n",
    "\n",
    "from eval_utils import create_metrics"
   ]
  },
  {
   "cell_type": "code",
   "execution_count": 6,
   "metadata": {},
   "outputs": [],
   "source": [
    "tqdm.pandas()\n",
    "\n",
    "tf.keras.backend.clear_session()"
   ]
  },
  {
   "cell_type": "markdown",
   "metadata": {},
   "source": [
    "Define constants"
   ]
  },
  {
   "cell_type": "code",
   "execution_count": null,
   "metadata": {},
   "outputs": [],
   "source": [
    "\n",
    "dim=50\n",
    "hidden_size = 128\n",
    "inname = \"c_nurse\"\n",
    "outname = \"c_nurse\"\n",
    "per_category_limit = None"
   ]
  },
  {
   "cell_type": "markdown",
   "metadata": {},
   "source": [
    "Method for downsampling unbalanced data"
   ]
  },
  {
   "cell_type": "code",
   "execution_count": 8,
   "metadata": {},
   "outputs": [],
   "source": [
    "def limit_samples(df, group, max_count):\n",
    "    return df.groupby(group).apply(lambda x: x if len(x) <= max_count else x.sample(max_count)).droplevel(0)"
   ]
  },
  {
   "cell_type": "markdown",
   "metadata": {},
   "source": [
    "Loading datasets(segmented and normalized)"
   ]
  },
  {
   "cell_type": "code",
   "execution_count": 10,
   "metadata": {},
   "outputs": [],
   "source": [
    "parts = pd.read_feather(f\"dataset/{inname}-parts.feather\")\n",
    "titles = pd.read_feather(f\"dataset/{inname}-titles.feather\")"
   ]
  },
  {
   "cell_type": "code",
   "execution_count": null,
   "metadata": {},
   "outputs": [],
   "source": [
    "# downsample\n",
    "relevant = parts\n",
    "if per_category_limit is not None:\n",
    "    relevant = limit_samples(parts, \"label\", per_category_limit)\n",
    "relevant = relevant.query(\"label >= 0\").reset_index(drop=True) # remove -1: unlabeled"
   ]
  },
  {
   "cell_type": "code",
   "execution_count": 15,
   "metadata": {},
   "outputs": [
    {
     "data": {
      "text/html": [
       "<div>\n",
       "<style scoped>\n",
       "    .dataframe tbody tr th:only-of-type {\n",
       "        vertical-align: middle;\n",
       "    }\n",
       "\n",
       "    .dataframe tbody tr th {\n",
       "        vertical-align: top;\n",
       "    }\n",
       "\n",
       "    .dataframe thead th {\n",
       "        text-align: right;\n",
       "    }\n",
       "</style>\n",
       "<table border=\"1\" class=\"dataframe\">\n",
       "  <thead>\n",
       "    <tr style=\"text-align: right;\">\n",
       "      <th></th>\n",
       "      <th>rid</th>\n",
       "      <th>pid</th>\n",
       "      <th>rord</th>\n",
       "      <th>srord</th>\n",
       "      <th>text</th>\n",
       "      <th>stext</th>\n",
       "      <th>title</th>\n",
       "      <th>stitle</th>\n",
       "      <th>label</th>\n",
       "    </tr>\n",
       "  </thead>\n",
       "  <tbody>\n",
       "    <tr>\n",
       "      <th>0</th>\n",
       "      <td>1678764</td>\n",
       "      <td>2</td>\n",
       "      <td>1</td>\n",
       "      <td>3</td>\n",
       "      <td>PNS:  A pos, Ab neg, HBSAg neg, RPR NR, RI, GB...</td>\n",
       "      <td>A pos, Ab neg, HBSAg neg, RPR NR, RI, GBS neg....</td>\n",
       "      <td>PNS</td>\n",
       "      <td>pns</td>\n",
       "      <td>183</td>\n",
       "    </tr>\n",
       "    <tr>\n",
       "      <th>1</th>\n",
       "      <td>1678764</td>\n",
       "      <td>2</td>\n",
       "      <td>1</td>\n",
       "      <td>6</td>\n",
       "      <td>Assessment/plan:\\nTerm male infant with increa...</td>\n",
       "      <td>Term male infant with increased risk of sepsis...</td>\n",
       "      <td>Assessment/plan</td>\n",
       "      <td>assessment/plan</td>\n",
       "      <td>42</td>\n",
       "    </tr>\n",
       "    <tr>\n",
       "      <th>2</th>\n",
       "      <td>1260685</td>\n",
       "      <td>3</td>\n",
       "      <td>1</td>\n",
       "      <td>0</td>\n",
       "      <td>MICU NSG PROG NOTE: days\\nRemains stable on hi...</td>\n",
       "      <td>days\\nRemains stable on high dose neo, taperin...</td>\n",
       "      <td>MICU NSG PROG NOTE</td>\n",
       "      <td>micu nsg prog note</td>\n",
       "      <td>700</td>\n",
       "    </tr>\n",
       "  </tbody>\n",
       "</table>\n",
       "</div>"
      ],
      "text/plain": [
       "       rid  pid  rord  srord  \\\n",
       "0  1678764    2     1      3   \n",
       "1  1678764    2     1      6   \n",
       "2  1260685    3     1      0   \n",
       "\n",
       "                                                text  \\\n",
       "0  PNS:  A pos, Ab neg, HBSAg neg, RPR NR, RI, GB...   \n",
       "1  Assessment/plan:\\nTerm male infant with increa...   \n",
       "2  MICU NSG PROG NOTE: days\\nRemains stable on hi...   \n",
       "\n",
       "                                               stext               title  \\\n",
       "0  A pos, Ab neg, HBSAg neg, RPR NR, RI, GBS neg....                 PNS   \n",
       "1  Term male infant with increased risk of sepsis...     Assessment/plan   \n",
       "2  days\\nRemains stable on high dose neo, taperin...  MICU NSG PROG NOTE   \n",
       "\n",
       "               stitle  label  \n",
       "0                 pns    183  \n",
       "1     assessment/plan     42  \n",
       "2  micu nsg prog note    700  "
      ]
     },
     "execution_count": 15,
     "metadata": {},
     "output_type": "execute_result"
    }
   ],
   "source": [
    "relevant.head(3)\n"
   ]
  },
  {
   "cell_type": "markdown",
   "metadata": {},
   "source": [
    "Prepairing train/test"
   ]
  },
  {
   "cell_type": "code",
   "execution_count": 16,
   "metadata": {},
   "outputs": [],
   "source": [
    "skf = StratifiedKFold(n_splits=5, shuffle=True, random_state=42)"
   ]
  },
  {
   "cell_type": "code",
   "execution_count": 17,
   "metadata": {},
   "outputs": [],
   "source": [
    "# only using the first fold\n",
    "for train_index, test_index in skf.split(relevant, relevant.label):\n",
    "    break"
   ]
  },
  {
   "cell_type": "markdown",
   "metadata": {},
   "source": [
    "Tokenizers"
   ]
  },
  {
   "cell_type": "code",
   "execution_count": 20,
   "metadata": {},
   "outputs": [],
   "source": [
    "def tokenize_doc(text):\n",
    "    text = re.sub(r\"[0-9]\", \"9\", text) # replace all digits with 9\n",
    "    text = re.sub(r\"([\\.\\,\\:])(?!#)\", r\" \\1 \", text) # space around punctuation\n",
    "    text = re.sub(r\"\\n\", r\" <br> \", text) # Replaces newlines with <br> tag : To preserve line breaks as meaningful information / avoid issues caused by invisible characters like \\n\n",
    "    return text.split()\n",
    "\n",
    "def tokenize_nltk(text):\n",
    "    text = re.sub(r\"[0-9]\", \"9\", text)\n",
    "    text = re.sub(r\"\\n\", r\" <br> \", text)\n",
    "    return word_tokenize(text) # NLTK's word_tokenize, which is smarter than .split()\n"
   ]
  },
  {
   "cell_type": "code",
   "execution_count": 19,
   "metadata": {},
   "outputs": [],
   "source": [
    "# select the tokenizer\n",
    "tokenize = tokenize_doc"
   ]
  },
  {
   "cell_type": "code",
   "execution_count": null,
   "metadata": {},
   "outputs": [],
   "source": []
  },
  {
   "cell_type": "code",
   "execution_count": null,
   "metadata": {},
   "outputs": [],
   "source": []
  },
  {
   "cell_type": "code",
   "execution_count": null,
   "metadata": {},
   "outputs": [],
   "source": []
  },
  {
   "cell_type": "code",
   "execution_count": null,
   "metadata": {},
   "outputs": [],
   "source": []
  }
 ],
 "metadata": {
  "kernelspec": {
   "display_name": "pytorch_env",
   "language": "python",
   "name": "python3"
  },
  "language_info": {
   "codemirror_mode": {
    "name": "ipython",
    "version": 3
   },
   "file_extension": ".py",
   "mimetype": "text/x-python",
   "name": "python",
   "nbconvert_exporter": "python",
   "pygments_lexer": "ipython3",
   "version": "3.12.3"
  }
 },
 "nbformat": 4,
 "nbformat_minor": 2
}

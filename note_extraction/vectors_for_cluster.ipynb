{
 "cells": [
  {
   "cell_type": "markdown",
   "metadata": {},
   "source": [
    "Combine data from each segment to create a single dataset for DocVec"
   ]
  },
  {
   "cell_type": "code",
   "execution_count": 2,
   "metadata": {},
   "outputs": [],
   "source": [
    "import numpy as np\n",
    "import pandas as pd\n",
    "import matplotlib.pyplot as plt\n",
    "\n",
    "from gensim.models import Doc2Vec\n",
    "from gensim.models.doc2vec import TaggedDocument\n",
    "from gensim.utils import simple_preprocess\n",
    "\n",
    "from sklearn.cluster import AgglomerativeClustering\n",
    "from sklearn.manifold import TSNE"
   ]
  },
  {
   "cell_type": "code",
   "execution_count": 3,
   "metadata": {},
   "outputs": [],
   "source": [
    "inname = \"c_nurse\"\n",
    "outname = \"c_nurse\"\n",
    "per_category_limit = None"
   ]
  },
  {
   "cell_type": "markdown",
   "metadata": {},
   "source": [
    "Loading datasets(segmented and normalized)"
   ]
  },
  {
   "cell_type": "code",
   "execution_count": 4,
   "metadata": {},
   "outputs": [],
   "source": [
    "parts = pd.read_feather(f\"dataset/{inname}-parts.feather\")\n",
    "titles = pd.read_feather(f\"dataset/{inname}-titles.feather\")"
   ]
  },
  {
   "cell_type": "code",
   "execution_count": 5,
   "metadata": {},
   "outputs": [
    {
     "data": {
      "text/html": [
       "<div>\n",
       "<style scoped>\n",
       "    .dataframe tbody tr th:only-of-type {\n",
       "        vertical-align: middle;\n",
       "    }\n",
       "\n",
       "    .dataframe tbody tr th {\n",
       "        vertical-align: top;\n",
       "    }\n",
       "\n",
       "    .dataframe thead th {\n",
       "        text-align: right;\n",
       "    }\n",
       "</style>\n",
       "<table border=\"1\" class=\"dataframe\">\n",
       "  <thead>\n",
       "    <tr style=\"text-align: right;\">\n",
       "      <th></th>\n",
       "      <th>rid</th>\n",
       "      <th>pid</th>\n",
       "      <th>rord</th>\n",
       "      <th>srord</th>\n",
       "      <th>text</th>\n",
       "      <th>stext</th>\n",
       "      <th>title</th>\n",
       "      <th>stitle</th>\n",
       "      <th>label</th>\n",
       "    </tr>\n",
       "  </thead>\n",
       "  <tbody>\n",
       "    <tr>\n",
       "      <th>0</th>\n",
       "      <td>1678765</td>\n",
       "      <td>2</td>\n",
       "      <td>0</td>\n",
       "      <td>0</td>\n",
       "      <td>Nursing Transfer note</td>\n",
       "      <td>Nursing Transfer note</td>\n",
       "      <td>None</td>\n",
       "      <td>None</td>\n",
       "      <td>-1</td>\n",
       "    </tr>\n",
       "    <tr>\n",
       "      <th>1</th>\n",
       "      <td>1678765</td>\n",
       "      <td>2</td>\n",
       "      <td>0</td>\n",
       "      <td>1</td>\n",
       "      <td>Pt admitted to NICU for sepsis eval. Please se...</td>\n",
       "      <td>Pt admitted to NICU for sepsis eval. Please se...</td>\n",
       "      <td>None</td>\n",
       "      <td>None</td>\n",
       "      <td>-1</td>\n",
       "    </tr>\n",
       "    <tr>\n",
       "      <th>2</th>\n",
       "      <td>1678765</td>\n",
       "      <td>2</td>\n",
       "      <td>0</td>\n",
       "      <td>2</td>\n",
       "      <td>Infant stable in RA. RR 30-40's, sats 96-100%....</td>\n",
       "      <td>Infant stable in RA. RR 30-40's, sats 96-100%....</td>\n",
       "      <td>None</td>\n",
       "      <td>None</td>\n",
       "      <td>-1</td>\n",
       "    </tr>\n",
       "    <tr>\n",
       "      <th>3</th>\n",
       "      <td>1678764</td>\n",
       "      <td>2</td>\n",
       "      <td>1</td>\n",
       "      <td>0</td>\n",
       "      <td>Neonatology Attending Triage Note</td>\n",
       "      <td>Neonatology Attending Triage Note</td>\n",
       "      <td>None</td>\n",
       "      <td>None</td>\n",
       "      <td>-1</td>\n",
       "    </tr>\n",
       "    <tr>\n",
       "      <th>4</th>\n",
       "      <td>1678764</td>\n",
       "      <td>2</td>\n",
       "      <td>1</td>\n",
       "      <td>1</td>\n",
       "      <td>Baby [**Name (NI) 1**] [**Known lastname 2**] ...</td>\n",
       "      <td>Baby [**Name (NI) 1**] [**Known lastname 2**] ...</td>\n",
       "      <td>None</td>\n",
       "      <td>None</td>\n",
       "      <td>-1</td>\n",
       "    </tr>\n",
       "  </tbody>\n",
       "</table>\n",
       "</div>"
      ],
      "text/plain": [
       "       rid  pid  rord  srord  \\\n",
       "0  1678765    2     0      0   \n",
       "1  1678765    2     0      1   \n",
       "2  1678765    2     0      2   \n",
       "3  1678764    2     1      0   \n",
       "4  1678764    2     1      1   \n",
       "\n",
       "                                                text  \\\n",
       "0                              Nursing Transfer note   \n",
       "1  Pt admitted to NICU for sepsis eval. Please se...   \n",
       "2  Infant stable in RA. RR 30-40's, sats 96-100%....   \n",
       "3                  Neonatology Attending Triage Note   \n",
       "4  Baby [**Name (NI) 1**] [**Known lastname 2**] ...   \n",
       "\n",
       "                                               stext title stitle  label  \n",
       "0                              Nursing Transfer note  None   None     -1  \n",
       "1  Pt admitted to NICU for sepsis eval. Please se...  None   None     -1  \n",
       "2  Infant stable in RA. RR 30-40's, sats 96-100%....  None   None     -1  \n",
       "3                  Neonatology Attending Triage Note  None   None     -1  \n",
       "4  Baby [**Name (NI) 1**] [**Known lastname 2**] ...  None   None     -1  "
      ]
     },
     "execution_count": 5,
     "metadata": {},
     "output_type": "execute_result"
    }
   ],
   "source": [
    "parts.head()"
   ]
  },
  {
   "cell_type": "code",
   "execution_count": 6,
   "metadata": {},
   "outputs": [
    {
     "data": {
      "text/html": [
       "<div>\n",
       "<style scoped>\n",
       "    .dataframe tbody tr th:only-of-type {\n",
       "        vertical-align: middle;\n",
       "    }\n",
       "\n",
       "    .dataframe tbody tr th {\n",
       "        vertical-align: top;\n",
       "    }\n",
       "\n",
       "    .dataframe thead th {\n",
       "        text-align: right;\n",
       "    }\n",
       "</style>\n",
       "<table border=\"1\" class=\"dataframe\">\n",
       "  <thead>\n",
       "    <tr style=\"text-align: right;\">\n",
       "      <th></th>\n",
       "      <th>title</th>\n",
       "      <th>freq</th>\n",
       "    </tr>\n",
       "    <tr>\n",
       "      <th>label</th>\n",
       "      <th></th>\n",
       "      <th></th>\n",
       "    </tr>\n",
       "  </thead>\n",
       "  <tbody>\n",
       "    <tr>\n",
       "      <th>0</th>\n",
       "      <td>resp</td>\n",
       "      <td>172682</td>\n",
       "    </tr>\n",
       "    <tr>\n",
       "      <th>1</th>\n",
       "      <td>neuro</td>\n",
       "      <td>160003</td>\n",
       "    </tr>\n",
       "    <tr>\n",
       "      <th>2</th>\n",
       "      <td>cv</td>\n",
       "      <td>142843</td>\n",
       "    </tr>\n",
       "    <tr>\n",
       "      <th>3</th>\n",
       "      <td>gi</td>\n",
       "      <td>123485</td>\n",
       "    </tr>\n",
       "    <tr>\n",
       "      <th>4</th>\n",
       "      <td>plan</td>\n",
       "      <td>108943</td>\n",
       "    </tr>\n",
       "  </tbody>\n",
       "</table>\n",
       "</div>"
      ],
      "text/plain": [
       "       title    freq\n",
       "label               \n",
       "0       resp  172682\n",
       "1      neuro  160003\n",
       "2         cv  142843\n",
       "3         gi  123485\n",
       "4       plan  108943"
      ]
     },
     "execution_count": 6,
     "metadata": {},
     "output_type": "execute_result"
    }
   ],
   "source": [
    "titles.head()"
   ]
  },
  {
   "cell_type": "code",
   "execution_count": 7,
   "metadata": {},
   "outputs": [],
   "source": [
    "def limit_samples(df, group, max_count):\n",
    "    return df.groupby(group).apply(lambda x: x if len(x) <= max_count else x.sample(max_count)).droplevel(0)"
   ]
  },
  {
   "cell_type": "code",
   "execution_count": 8,
   "metadata": {},
   "outputs": [],
   "source": [
    "# downsample\n",
    "relevant = parts\n",
    "if per_category_limit is not None:\n",
    "    relevant = limit_samples(parts, \"label\", per_category_limit)\n",
    "relevant = relevant.query(\"label >= 0\").reset_index(drop=True) # remove -1: unlabeled"
   ]
  },
  {
   "cell_type": "code",
   "execution_count": 9,
   "metadata": {},
   "outputs": [
    {
     "data": {
      "text/html": [
       "<div>\n",
       "<style scoped>\n",
       "    .dataframe tbody tr th:only-of-type {\n",
       "        vertical-align: middle;\n",
       "    }\n",
       "\n",
       "    .dataframe tbody tr th {\n",
       "        vertical-align: top;\n",
       "    }\n",
       "\n",
       "    .dataframe thead th {\n",
       "        text-align: right;\n",
       "    }\n",
       "</style>\n",
       "<table border=\"1\" class=\"dataframe\">\n",
       "  <thead>\n",
       "    <tr style=\"text-align: right;\">\n",
       "      <th></th>\n",
       "      <th>rid</th>\n",
       "      <th>pid</th>\n",
       "      <th>rord</th>\n",
       "      <th>srord</th>\n",
       "      <th>text</th>\n",
       "      <th>stext</th>\n",
       "      <th>title</th>\n",
       "      <th>stitle</th>\n",
       "      <th>label</th>\n",
       "    </tr>\n",
       "  </thead>\n",
       "  <tbody>\n",
       "    <tr>\n",
       "      <th>0</th>\n",
       "      <td>1678764</td>\n",
       "      <td>2</td>\n",
       "      <td>1</td>\n",
       "      <td>3</td>\n",
       "      <td>PNS:  A pos, Ab neg, HBSAg neg, RPR NR, RI, GB...</td>\n",
       "      <td>A pos, Ab neg, HBSAg neg, RPR NR, RI, GBS neg....</td>\n",
       "      <td>PNS</td>\n",
       "      <td>pns</td>\n",
       "      <td>183</td>\n",
       "    </tr>\n",
       "    <tr>\n",
       "      <th>1</th>\n",
       "      <td>1678764</td>\n",
       "      <td>2</td>\n",
       "      <td>1</td>\n",
       "      <td>6</td>\n",
       "      <td>Assessment/plan:\\nTerm male infant with increa...</td>\n",
       "      <td>Term male infant with increased risk of sepsis...</td>\n",
       "      <td>Assessment/plan</td>\n",
       "      <td>assessment/plan</td>\n",
       "      <td>42</td>\n",
       "    </tr>\n",
       "    <tr>\n",
       "      <th>2</th>\n",
       "      <td>1260685</td>\n",
       "      <td>3</td>\n",
       "      <td>1</td>\n",
       "      <td>0</td>\n",
       "      <td>MICU NSG PROG NOTE: days\\nRemains stable on hi...</td>\n",
       "      <td>days\\nRemains stable on high dose neo, taperin...</td>\n",
       "      <td>MICU NSG PROG NOTE</td>\n",
       "      <td>micu nsg prog note</td>\n",
       "      <td>700</td>\n",
       "    </tr>\n",
       "    <tr>\n",
       "      <th>3</th>\n",
       "      <td>1260685</td>\n",
       "      <td>3</td>\n",
       "      <td>1</td>\n",
       "      <td>2</td>\n",
       "      <td>CARDIAC: Maintaining map&gt;60 on neo and levofed...</td>\n",
       "      <td>Maintaining map&gt;60 on neo and levofed. He has ...</td>\n",
       "      <td>CARDIAC</td>\n",
       "      <td>cardiac</td>\n",
       "      <td>17</td>\n",
       "    </tr>\n",
       "    <tr>\n",
       "      <th>4</th>\n",
       "      <td>1260685</td>\n",
       "      <td>3</td>\n",
       "      <td>1</td>\n",
       "      <td>3</td>\n",
       "      <td>RESP: good abg. good oxygenation. Strong cough...</td>\n",
       "      <td>good abg. good oxygenation. Strong cough. Has ...</td>\n",
       "      <td>RESP</td>\n",
       "      <td>resp</td>\n",
       "      <td>0</td>\n",
       "    </tr>\n",
       "  </tbody>\n",
       "</table>\n",
       "</div>"
      ],
      "text/plain": [
       "       rid  pid  rord  srord  \\\n",
       "0  1678764    2     1      3   \n",
       "1  1678764    2     1      6   \n",
       "2  1260685    3     1      0   \n",
       "3  1260685    3     1      2   \n",
       "4  1260685    3     1      3   \n",
       "\n",
       "                                                text  \\\n",
       "0  PNS:  A pos, Ab neg, HBSAg neg, RPR NR, RI, GB...   \n",
       "1  Assessment/plan:\\nTerm male infant with increa...   \n",
       "2  MICU NSG PROG NOTE: days\\nRemains stable on hi...   \n",
       "3  CARDIAC: Maintaining map>60 on neo and levofed...   \n",
       "4  RESP: good abg. good oxygenation. Strong cough...   \n",
       "\n",
       "                                               stext               title  \\\n",
       "0  A pos, Ab neg, HBSAg neg, RPR NR, RI, GBS neg....                 PNS   \n",
       "1  Term male infant with increased risk of sepsis...     Assessment/plan   \n",
       "2  days\\nRemains stable on high dose neo, taperin...  MICU NSG PROG NOTE   \n",
       "3  Maintaining map>60 on neo and levofed. He has ...             CARDIAC   \n",
       "4  good abg. good oxygenation. Strong cough. Has ...                RESP   \n",
       "\n",
       "               stitle  label  \n",
       "0                 pns    183  \n",
       "1     assessment/plan     42  \n",
       "2  micu nsg prog note    700  \n",
       "3             cardiac     17  \n",
       "4                resp      0  "
      ]
     },
     "execution_count": 9,
     "metadata": {},
     "output_type": "execute_result"
    }
   ],
   "source": [
    "relevant.head()"
   ]
  },
  {
   "cell_type": "markdown",
   "metadata": {},
   "source": [
    "Prepare TaggedDocument"
   ]
  },
  {
   "cell_type": "code",
   "execution_count": 10,
   "metadata": {},
   "outputs": [],
   "source": [
    "tagged_docs = []\n",
    "\n",
    "for i, row in relevant.iterrows():\n",
    "    tokens = simple_preprocess(row['stext'])\n",
    "    tagged_docs.append(TaggedDocument(words=tokens, tags=[str(i)]))  # unque tag for each row of data(segment)\n",
    "\n",
    "    # tag: Think of a tag as a unique identifier (or set of identifiers) that represents the document within the model. Doc2Vec needs these tags so it can learn a vector representation (an embedding) per document as well as per word.\n",
    "    # if we gave label here it will combine labels and create the single embedding for each combined label/labels"
   ]
  },
  {
   "cell_type": "code",
   "execution_count": 11,
   "metadata": {},
   "outputs": [
    {
     "name": "stdout",
     "output_type": "stream",
     "text": [
      "[TaggedDocument(words=['pos', 'ab', 'neg', 'hbsag', 'neg', 'rpr', 'nr', 'ri', 'gbs', 'neg', 'pregnancy', 'was', 'uncomplicated', 'delivery', 'was', 'by', 'section', 'after', 'failure', 'to', 'progress', 'apgars', 'mother', 'was', 'treated', 'with', 'antibiotics', 'because', 'of', 'maternal', 'temp', 'of', 'just', 'prior', 'to', 'delivery', 'mother', 'temp', 'was', 'then', 'lower', 'but', 'at', 'hours', 'rose', 'again', 'to'], tags=['0']), TaggedDocument(words=['term', 'male', 'infant', 'with', 'increased', 'risk', 'of', 'sepsis', 'will', 'check', 'cbc', 'diff', 'and', 'plats', 'blood', 'culture', 'will', 'cover', 'with', 'antibiotics', 'for', 'at', 'least', 'hours', 'pending', 'results', 'of', 'cultures', 'further', 'work', 'up', 'with', 'possible', 'lp', 'if', 'culture', 'is', 'positive', 'or', 'clinical', 'signs', 'of', 'sepsis', 'develop'], tags=['1'])]\n"
     ]
    }
   ],
   "source": [
    "print(tagged_docs[:2])\n"
   ]
  },
  {
   "cell_type": "markdown",
   "metadata": {},
   "source": [
    "Train a Doc2Vec Model"
   ]
  },
  {
   "cell_type": "code",
   "execution_count": 13,
   "metadata": {},
   "outputs": [],
   "source": [
    "# Initialize model\n",
    "model = Doc2Vec(\n",
    "    vector_size=50,\n",
    "    window=5,\n",
    "    min_count= 3,  # Set to 1 for small toy data, usually higher like 2 or 5\n",
    "    workers=16,\n",
    "    epochs=40,\n",
    "    dm=1  # Distributed Memory\n",
    ")"
   ]
  },
  {
   "cell_type": "code",
   "execution_count": 14,
   "metadata": {},
   "outputs": [],
   "source": [
    "# Build vocabulary\n",
    "model.build_vocab(tagged_docs)"
   ]
  },
  {
   "cell_type": "code",
   "execution_count": 15,
   "metadata": {},
   "outputs": [],
   "source": [
    "# Train model\n",
    "model.train(\n",
    "    tagged_docs,\n",
    "    total_examples=model.corpus_count,\n",
    "    epochs=model.epochs\n",
    ")"
   ]
  },
  {
   "cell_type": "markdown",
   "metadata": {},
   "source": [
    "Infer Embeddings for Each Segment (Row)"
   ]
  },
  {
   "cell_type": "code",
   "execution_count": 16,
   "metadata": {},
   "outputs": [],
   "source": [
    "# Create a new column 'embedding' in df\n",
    "def infer_embedding(text):\n",
    "    tokens = simple_preprocess(text)\n",
    "    return model.infer_vector(tokens)"
   ]
  },
  {
   "cell_type": "code",
   "execution_count": 17,
   "metadata": {},
   "outputs": [],
   "source": [
    "relevant['embedding'] = relevant['stext'].apply(infer_embedding)"
   ]
  },
  {
   "cell_type": "code",
   "execution_count": 18,
   "metadata": {},
   "outputs": [
    {
     "data": {
      "text/html": [
       "<div>\n",
       "<style scoped>\n",
       "    .dataframe tbody tr th:only-of-type {\n",
       "        vertical-align: middle;\n",
       "    }\n",
       "\n",
       "    .dataframe tbody tr th {\n",
       "        vertical-align: top;\n",
       "    }\n",
       "\n",
       "    .dataframe thead th {\n",
       "        text-align: right;\n",
       "    }\n",
       "</style>\n",
       "<table border=\"1\" class=\"dataframe\">\n",
       "  <thead>\n",
       "    <tr style=\"text-align: right;\">\n",
       "      <th></th>\n",
       "      <th>rid</th>\n",
       "      <th>pid</th>\n",
       "      <th>rord</th>\n",
       "      <th>srord</th>\n",
       "      <th>text</th>\n",
       "      <th>stext</th>\n",
       "      <th>title</th>\n",
       "      <th>stitle</th>\n",
       "      <th>label</th>\n",
       "      <th>embedding</th>\n",
       "    </tr>\n",
       "  </thead>\n",
       "  <tbody>\n",
       "    <tr>\n",
       "      <th>0</th>\n",
       "      <td>1678764</td>\n",
       "      <td>2</td>\n",
       "      <td>1</td>\n",
       "      <td>3</td>\n",
       "      <td>PNS:  A pos, Ab neg, HBSAg neg, RPR NR, RI, GB...</td>\n",
       "      <td>A pos, Ab neg, HBSAg neg, RPR NR, RI, GBS neg....</td>\n",
       "      <td>PNS</td>\n",
       "      <td>pns</td>\n",
       "      <td>183</td>\n",
       "      <td>[0.43021446, -0.6662299, 1.200484, -0.68246704...</td>\n",
       "    </tr>\n",
       "    <tr>\n",
       "      <th>1</th>\n",
       "      <td>1678764</td>\n",
       "      <td>2</td>\n",
       "      <td>1</td>\n",
       "      <td>6</td>\n",
       "      <td>Assessment/plan:\\nTerm male infant with increa...</td>\n",
       "      <td>Term male infant with increased risk of sepsis...</td>\n",
       "      <td>Assessment/plan</td>\n",
       "      <td>assessment/plan</td>\n",
       "      <td>42</td>\n",
       "      <td>[-0.04399224, -0.59779483, 0.071669385, -0.551...</td>\n",
       "    </tr>\n",
       "    <tr>\n",
       "      <th>2</th>\n",
       "      <td>1260685</td>\n",
       "      <td>3</td>\n",
       "      <td>1</td>\n",
       "      <td>0</td>\n",
       "      <td>MICU NSG PROG NOTE: days\\nRemains stable on hi...</td>\n",
       "      <td>days\\nRemains stable on high dose neo, taperin...</td>\n",
       "      <td>MICU NSG PROG NOTE</td>\n",
       "      <td>micu nsg prog note</td>\n",
       "      <td>700</td>\n",
       "      <td>[0.0025770026, -1.3833206, 0.19549513, -0.4590...</td>\n",
       "    </tr>\n",
       "    <tr>\n",
       "      <th>3</th>\n",
       "      <td>1260685</td>\n",
       "      <td>3</td>\n",
       "      <td>1</td>\n",
       "      <td>2</td>\n",
       "      <td>CARDIAC: Maintaining map&gt;60 on neo and levofed...</td>\n",
       "      <td>Maintaining map&gt;60 on neo and levofed. He has ...</td>\n",
       "      <td>CARDIAC</td>\n",
       "      <td>cardiac</td>\n",
       "      <td>17</td>\n",
       "      <td>[-0.5564191, 0.41284, 1.6669538, -0.50814295, ...</td>\n",
       "    </tr>\n",
       "    <tr>\n",
       "      <th>4</th>\n",
       "      <td>1260685</td>\n",
       "      <td>3</td>\n",
       "      <td>1</td>\n",
       "      <td>3</td>\n",
       "      <td>RESP: good abg. good oxygenation. Strong cough...</td>\n",
       "      <td>good abg. good oxygenation. Strong cough. Has ...</td>\n",
       "      <td>RESP</td>\n",
       "      <td>resp</td>\n",
       "      <td>0</td>\n",
       "      <td>[-0.30293128, -0.37995958, 0.49376696, -0.1509...</td>\n",
       "    </tr>\n",
       "  </tbody>\n",
       "</table>\n",
       "</div>"
      ],
      "text/plain": [
       "       rid  pid  rord  srord  \\\n",
       "0  1678764    2     1      3   \n",
       "1  1678764    2     1      6   \n",
       "2  1260685    3     1      0   \n",
       "3  1260685    3     1      2   \n",
       "4  1260685    3     1      3   \n",
       "\n",
       "                                                text  \\\n",
       "0  PNS:  A pos, Ab neg, HBSAg neg, RPR NR, RI, GB...   \n",
       "1  Assessment/plan:\\nTerm male infant with increa...   \n",
       "2  MICU NSG PROG NOTE: days\\nRemains stable on hi...   \n",
       "3  CARDIAC: Maintaining map>60 on neo and levofed...   \n",
       "4  RESP: good abg. good oxygenation. Strong cough...   \n",
       "\n",
       "                                               stext               title  \\\n",
       "0  A pos, Ab neg, HBSAg neg, RPR NR, RI, GBS neg....                 PNS   \n",
       "1  Term male infant with increased risk of sepsis...     Assessment/plan   \n",
       "2  days\\nRemains stable on high dose neo, taperin...  MICU NSG PROG NOTE   \n",
       "3  Maintaining map>60 on neo and levofed. He has ...             CARDIAC   \n",
       "4  good abg. good oxygenation. Strong cough. Has ...                RESP   \n",
       "\n",
       "               stitle  label  \\\n",
       "0                 pns    183   \n",
       "1     assessment/plan     42   \n",
       "2  micu nsg prog note    700   \n",
       "3             cardiac     17   \n",
       "4                resp      0   \n",
       "\n",
       "                                           embedding  \n",
       "0  [0.43021446, -0.6662299, 1.200484, -0.68246704...  \n",
       "1  [-0.04399224, -0.59779483, 0.071669385, -0.551...  \n",
       "2  [0.0025770026, -1.3833206, 0.19549513, -0.4590...  \n",
       "3  [-0.5564191, 0.41284, 1.6669538, -0.50814295, ...  \n",
       "4  [-0.30293128, -0.37995958, 0.49376696, -0.1509...  "
      ]
     },
     "execution_count": 18,
     "metadata": {},
     "output_type": "execute_result"
    }
   ],
   "source": [
    "relevant.head()"
   ]
  },
  {
   "cell_type": "code",
   "execution_count": 19,
   "metadata": {},
   "outputs": [],
   "source": [
    "def create_name(pre, name, post):\n",
    "    if name:\n",
    "        return f\"{pre}{name}-{post}\"\n",
    "    return f\"{pre}{post}\""
   ]
  },
  {
   "cell_type": "code",
   "execution_count": 20,
   "metadata": {},
   "outputs": [],
   "source": [
    "name = \"c_nurse_doc2vec_embedding\"\n",
    "relevant.reset_index(drop=True).to_feather(create_name(\"dataset/\", name, \"parts.feather\")) # Save the relevant DataFrame to a Feather file"
   ]
  },
  {
   "cell_type": "code",
   "execution_count": null,
   "metadata": {},
   "outputs": [],
   "source": []
  }
 ],
 "metadata": {
  "kernelspec": {
   "display_name": "pytorch_env",
   "language": "python",
   "name": "python3"
  },
  "language_info": {
   "codemirror_mode": {
    "name": "ipython",
    "version": 3
   },
   "file_extension": ".py",
   "mimetype": "text/x-python",
   "name": "python",
   "nbconvert_exporter": "python",
   "pygments_lexer": "ipython3",
   "version": "3.12.3"
  }
 },
 "nbformat": 4,
 "nbformat_minor": 2
}

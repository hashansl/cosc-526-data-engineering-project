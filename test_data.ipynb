{
 "cells": [
  {
   "cell_type": "markdown",
   "metadata": {},
   "source": []
  },
  {
   "cell_type": "code",
   "execution_count": 2,
   "metadata": {},
   "outputs": [],
   "source": [
    "import string\n",
    "import io\n",
    "import pandas as pd"
   ]
  },
  {
   "cell_type": "code",
   "execution_count": 3,
   "metadata": {},
   "outputs": [
    {
     "name": "stderr",
     "output_type": "stream",
     "text": [
      "/var/folders/j3/904q7dbj02j_jyjz7pvfgz384d40kw/T/ipykernel_84927/2508618875.py:1: DtypeWarning: Columns (4,5) have mixed types. Specify dtype option on import or set low_memory=False.\n",
      "  df = pd.read_csv('/Users/h6x/UT/Coursework/2025/Spring 2025/COSC 525 - Data Mining/git/cosc-526-data-engineering-project/data/physionet.org/files/mimiciii/1.4/NOTEEVENTS.csv')\n"
     ]
    }
   ],
   "source": [
    "df = pd.read_csv('/Users/h6x/UT/Coursework/2025/Spring 2025/COSC 525 - Data Mining/git/cosc-526-data-engineering-project/data/physionet.org/files/mimiciii/1.4/NOTEEVENTS.csv')"
   ]
  },
  {
   "cell_type": "code",
   "execution_count": 4,
   "metadata": {},
   "outputs": [
    {
     "data": {
      "text/html": [
       "<div>\n",
       "<style scoped>\n",
       "    .dataframe tbody tr th:only-of-type {\n",
       "        vertical-align: middle;\n",
       "    }\n",
       "\n",
       "    .dataframe tbody tr th {\n",
       "        vertical-align: top;\n",
       "    }\n",
       "\n",
       "    .dataframe thead th {\n",
       "        text-align: right;\n",
       "    }\n",
       "</style>\n",
       "<table border=\"1\" class=\"dataframe\">\n",
       "  <thead>\n",
       "    <tr style=\"text-align: right;\">\n",
       "      <th></th>\n",
       "      <th>ROW_ID</th>\n",
       "      <th>SUBJECT_ID</th>\n",
       "      <th>HADM_ID</th>\n",
       "      <th>CHARTDATE</th>\n",
       "      <th>CHARTTIME</th>\n",
       "      <th>STORETIME</th>\n",
       "      <th>CATEGORY</th>\n",
       "      <th>DESCRIPTION</th>\n",
       "      <th>CGID</th>\n",
       "      <th>ISERROR</th>\n",
       "      <th>TEXT</th>\n",
       "    </tr>\n",
       "  </thead>\n",
       "  <tbody>\n",
       "    <tr>\n",
       "      <th>0</th>\n",
       "      <td>174</td>\n",
       "      <td>22532</td>\n",
       "      <td>167853.0</td>\n",
       "      <td>2151-08-04</td>\n",
       "      <td>NaN</td>\n",
       "      <td>NaN</td>\n",
       "      <td>Discharge summary</td>\n",
       "      <td>Report</td>\n",
       "      <td>NaN</td>\n",
       "      <td>NaN</td>\n",
       "      <td>Admission Date:  [**2151-7-16**]       Dischar...</td>\n",
       "    </tr>\n",
       "    <tr>\n",
       "      <th>1</th>\n",
       "      <td>175</td>\n",
       "      <td>13702</td>\n",
       "      <td>107527.0</td>\n",
       "      <td>2118-06-14</td>\n",
       "      <td>NaN</td>\n",
       "      <td>NaN</td>\n",
       "      <td>Discharge summary</td>\n",
       "      <td>Report</td>\n",
       "      <td>NaN</td>\n",
       "      <td>NaN</td>\n",
       "      <td>Admission Date:  [**2118-6-2**]       Discharg...</td>\n",
       "    </tr>\n",
       "    <tr>\n",
       "      <th>2</th>\n",
       "      <td>176</td>\n",
       "      <td>13702</td>\n",
       "      <td>167118.0</td>\n",
       "      <td>2119-05-25</td>\n",
       "      <td>NaN</td>\n",
       "      <td>NaN</td>\n",
       "      <td>Discharge summary</td>\n",
       "      <td>Report</td>\n",
       "      <td>NaN</td>\n",
       "      <td>NaN</td>\n",
       "      <td>Admission Date:  [**2119-5-4**]              D...</td>\n",
       "    </tr>\n",
       "    <tr>\n",
       "      <th>3</th>\n",
       "      <td>177</td>\n",
       "      <td>13702</td>\n",
       "      <td>196489.0</td>\n",
       "      <td>2124-08-18</td>\n",
       "      <td>NaN</td>\n",
       "      <td>NaN</td>\n",
       "      <td>Discharge summary</td>\n",
       "      <td>Report</td>\n",
       "      <td>NaN</td>\n",
       "      <td>NaN</td>\n",
       "      <td>Admission Date:  [**2124-7-21**]              ...</td>\n",
       "    </tr>\n",
       "    <tr>\n",
       "      <th>4</th>\n",
       "      <td>178</td>\n",
       "      <td>26880</td>\n",
       "      <td>135453.0</td>\n",
       "      <td>2162-03-25</td>\n",
       "      <td>NaN</td>\n",
       "      <td>NaN</td>\n",
       "      <td>Discharge summary</td>\n",
       "      <td>Report</td>\n",
       "      <td>NaN</td>\n",
       "      <td>NaN</td>\n",
       "      <td>Admission Date:  [**2162-3-3**]              D...</td>\n",
       "    </tr>\n",
       "  </tbody>\n",
       "</table>\n",
       "</div>"
      ],
      "text/plain": [
       "   ROW_ID  SUBJECT_ID   HADM_ID   CHARTDATE CHARTTIME STORETIME  \\\n",
       "0     174       22532  167853.0  2151-08-04       NaN       NaN   \n",
       "1     175       13702  107527.0  2118-06-14       NaN       NaN   \n",
       "2     176       13702  167118.0  2119-05-25       NaN       NaN   \n",
       "3     177       13702  196489.0  2124-08-18       NaN       NaN   \n",
       "4     178       26880  135453.0  2162-03-25       NaN       NaN   \n",
       "\n",
       "            CATEGORY DESCRIPTION  CGID  ISERROR  \\\n",
       "0  Discharge summary      Report   NaN      NaN   \n",
       "1  Discharge summary      Report   NaN      NaN   \n",
       "2  Discharge summary      Report   NaN      NaN   \n",
       "3  Discharge summary      Report   NaN      NaN   \n",
       "4  Discharge summary      Report   NaN      NaN   \n",
       "\n",
       "                                                TEXT  \n",
       "0  Admission Date:  [**2151-7-16**]       Dischar...  \n",
       "1  Admission Date:  [**2118-6-2**]       Discharg...  \n",
       "2  Admission Date:  [**2119-5-4**]              D...  \n",
       "3  Admission Date:  [**2124-7-21**]              ...  \n",
       "4  Admission Date:  [**2162-3-3**]              D...  "
      ]
     },
     "execution_count": 4,
     "metadata": {},
     "output_type": "execute_result"
    }
   ],
   "source": [
    "df.head()"
   ]
  },
  {
   "cell_type": "code",
   "execution_count": 5,
   "metadata": {},
   "outputs": [
    {
     "data": {
      "text/plain": [
       "array(['Discharge summary', 'Echo', 'ECG', 'Nursing', 'Physician ',\n",
       "       'Rehab Services', 'Case Management ', 'Respiratory ', 'Nutrition',\n",
       "       'General', 'Social Work', 'Pharmacy', 'Consult', 'Radiology',\n",
       "       'Nursing/other'], dtype=object)"
      ]
     },
     "execution_count": 5,
     "metadata": {},
     "output_type": "execute_result"
    }
   ],
   "source": [
    "df['CATEGORY'].unique()"
   ]
  },
  {
   "cell_type": "code",
   "execution_count": 6,
   "metadata": {},
   "outputs": [
    {
     "data": {
      "text/plain": [
       "CATEGORY\n",
       "Nursing/other        822497\n",
       "Radiology            522279\n",
       "Nursing              223556\n",
       "ECG                  209051\n",
       "Physician            141624\n",
       "Discharge summary     59652\n",
       "Echo                  45794\n",
       "Respiratory           31739\n",
       "Nutrition              9418\n",
       "General                8301\n",
       "Rehab Services         5431\n",
       "Social Work            2670\n",
       "Case Management         967\n",
       "Pharmacy                103\n",
       "Consult                  98\n",
       "Name: count, dtype: int64"
      ]
     },
     "execution_count": 6,
     "metadata": {},
     "output_type": "execute_result"
    }
   ],
   "source": [
    "# get count of each category\n",
    "df['CATEGORY'].value_counts()"
   ]
  },
  {
   "cell_type": "code",
   "execution_count": 48,
   "metadata": {},
   "outputs": [],
   "source": [
    "mask = df['CATEGORY'] == 'Radiology'\n",
    "df_radiology = df[mask]"
   ]
  },
  {
   "cell_type": "code",
   "execution_count": 49,
   "metadata": {},
   "outputs": [
    {
     "data": {
      "text/html": [
       "<div>\n",
       "<style scoped>\n",
       "    .dataframe tbody tr th:only-of-type {\n",
       "        vertical-align: middle;\n",
       "    }\n",
       "\n",
       "    .dataframe tbody tr th {\n",
       "        vertical-align: top;\n",
       "    }\n",
       "\n",
       "    .dataframe thead th {\n",
       "        text-align: right;\n",
       "    }\n",
       "</style>\n",
       "<table border=\"1\" class=\"dataframe\">\n",
       "  <thead>\n",
       "    <tr style=\"text-align: right;\">\n",
       "      <th></th>\n",
       "      <th>ROW_ID</th>\n",
       "      <th>SUBJECT_ID</th>\n",
       "      <th>HADM_ID</th>\n",
       "      <th>CHARTDATE</th>\n",
       "      <th>CHARTTIME</th>\n",
       "      <th>STORETIME</th>\n",
       "      <th>CATEGORY</th>\n",
       "      <th>DESCRIPTION</th>\n",
       "      <th>CGID</th>\n",
       "      <th>ISERROR</th>\n",
       "      <th>TEXT</th>\n",
       "    </tr>\n",
       "  </thead>\n",
       "  <tbody>\n",
       "    <tr>\n",
       "      <th>657357</th>\n",
       "      <td>738405</td>\n",
       "      <td>93207</td>\n",
       "      <td>104110.0</td>\n",
       "      <td>2166-10-09</td>\n",
       "      <td>2166-10-09 20:24:00</td>\n",
       "      <td>NaN</td>\n",
       "      <td>Radiology</td>\n",
       "      <td>DISTINCT PROCEDURAL SERVICE</td>\n",
       "      <td>NaN</td>\n",
       "      <td>NaN</td>\n",
       "      <td>[**Last Name (LF) **],[**First Name3 (LF) **] ...</td>\n",
       "    </tr>\n",
       "    <tr>\n",
       "      <th>728603</th>\n",
       "      <td>738661</td>\n",
       "      <td>24552</td>\n",
       "      <td>NaN</td>\n",
       "      <td>2153-01-12</td>\n",
       "      <td>2153-01-12 22:03:00</td>\n",
       "      <td>NaN</td>\n",
       "      <td>Radiology</td>\n",
       "      <td>CHEST (PORTABLE AP)</td>\n",
       "      <td>NaN</td>\n",
       "      <td>NaN</td>\n",
       "      <td>[**2153-1-12**] 10:03 PM\\n CHEST (PORTABLE AP)...</td>\n",
       "    </tr>\n",
       "    <tr>\n",
       "      <th>728604</th>\n",
       "      <td>738662</td>\n",
       "      <td>10390</td>\n",
       "      <td>NaN</td>\n",
       "      <td>2145-03-13</td>\n",
       "      <td>2145-03-13 02:58:00</td>\n",
       "      <td>NaN</td>\n",
       "      <td>Radiology</td>\n",
       "      <td>CT PELVIS W/CONTRAST</td>\n",
       "      <td>NaN</td>\n",
       "      <td>NaN</td>\n",
       "      <td>[**2145-3-13**] 2:58 AM\\n CT ABDOMEN W/CONTRAS...</td>\n",
       "    </tr>\n",
       "    <tr>\n",
       "      <th>728605</th>\n",
       "      <td>738663</td>\n",
       "      <td>20409</td>\n",
       "      <td>102314.0</td>\n",
       "      <td>2119-03-11</td>\n",
       "      <td>2119-03-11 11:46:00</td>\n",
       "      <td>NaN</td>\n",
       "      <td>Radiology</td>\n",
       "      <td>CT HEAD W/O CONTRAST</td>\n",
       "      <td>NaN</td>\n",
       "      <td>NaN</td>\n",
       "      <td>[**2119-3-11**] 11:46 AM\\n CT HEAD W/O CONTRAS...</td>\n",
       "    </tr>\n",
       "    <tr>\n",
       "      <th>732765</th>\n",
       "      <td>739777</td>\n",
       "      <td>15017</td>\n",
       "      <td>NaN</td>\n",
       "      <td>2152-07-18</td>\n",
       "      <td>2152-07-18 13:06:00</td>\n",
       "      <td>NaN</td>\n",
       "      <td>Radiology</td>\n",
       "      <td>CHEST (PORTABLE AP)</td>\n",
       "      <td>NaN</td>\n",
       "      <td>NaN</td>\n",
       "      <td>[**2152-7-18**] 1:06 PM\\n CHEST (PORTABLE AP) ...</td>\n",
       "    </tr>\n",
       "  </tbody>\n",
       "</table>\n",
       "</div>"
      ],
      "text/plain": [
       "        ROW_ID  SUBJECT_ID   HADM_ID   CHARTDATE            CHARTTIME  \\\n",
       "657357  738405       93207  104110.0  2166-10-09  2166-10-09 20:24:00   \n",
       "728603  738661       24552       NaN  2153-01-12  2153-01-12 22:03:00   \n",
       "728604  738662       10390       NaN  2145-03-13  2145-03-13 02:58:00   \n",
       "728605  738663       20409  102314.0  2119-03-11  2119-03-11 11:46:00   \n",
       "732765  739777       15017       NaN  2152-07-18  2152-07-18 13:06:00   \n",
       "\n",
       "       STORETIME   CATEGORY                  DESCRIPTION  CGID  ISERROR  \\\n",
       "657357       NaN  Radiology  DISTINCT PROCEDURAL SERVICE   NaN      NaN   \n",
       "728603       NaN  Radiology          CHEST (PORTABLE AP)   NaN      NaN   \n",
       "728604       NaN  Radiology         CT PELVIS W/CONTRAST   NaN      NaN   \n",
       "728605       NaN  Radiology         CT HEAD W/O CONTRAST   NaN      NaN   \n",
       "732765       NaN  Radiology          CHEST (PORTABLE AP)   NaN      NaN   \n",
       "\n",
       "                                                     TEXT  \n",
       "657357  [**Last Name (LF) **],[**First Name3 (LF) **] ...  \n",
       "728603  [**2153-1-12**] 10:03 PM\\n CHEST (PORTABLE AP)...  \n",
       "728604  [**2145-3-13**] 2:58 AM\\n CT ABDOMEN W/CONTRAS...  \n",
       "728605  [**2119-3-11**] 11:46 AM\\n CT HEAD W/O CONTRAS...  \n",
       "732765  [**2152-7-18**] 1:06 PM\\n CHEST (PORTABLE AP) ...  "
      ]
     },
     "execution_count": 49,
     "metadata": {},
     "output_type": "execute_result"
    }
   ],
   "source": [
    "df_radiology.head()"
   ]
  },
  {
   "cell_type": "code",
   "execution_count": 50,
   "metadata": {},
   "outputs": [
    {
     "data": {
      "text/plain": [
       "(522279, 11)"
      ]
     },
     "execution_count": 50,
     "metadata": {},
     "output_type": "execute_result"
    }
   ],
   "source": [
    "df_radiology.shape"
   ]
  },
  {
   "cell_type": "code",
   "execution_count": 51,
   "metadata": {},
   "outputs": [
    {
     "name": "stdout",
     "output_type": "stream",
     "text": [
      "Total number od subjects in Radiology category:  37351\n"
     ]
    }
   ],
   "source": [
    "print(\"Total number od subjects in Radiology category: \", df_radiology['SUBJECT_ID'].nunique())"
   ]
  },
  {
   "cell_type": "code",
   "execution_count": 52,
   "metadata": {},
   "outputs": [
    {
     "name": "stdout",
     "output_type": "stream",
     "text": [
      "Total number of notes in Radiology category:  522279\n"
     ]
    }
   ],
   "source": [
    "print(\"Total number of notes in Radiology category: \", df_radiology['SUBJECT_ID'].count())"
   ]
  },
  {
   "cell_type": "code",
   "execution_count": 53,
   "metadata": {},
   "outputs": [
    {
     "name": "stdout",
     "output_type": "stream",
     "text": [
      "Total number of procedures in Radiology category:  2438\n"
     ]
    }
   ],
   "source": [
    "print(\"Total number of procedures in Radiology category: \", len(df_radiology['DESCRIPTION'].value_counts()))"
   ]
  },
  {
   "cell_type": "code",
   "execution_count": 54,
   "metadata": {},
   "outputs": [
    {
     "data": {
      "text/plain": [
       "DESCRIPTION\n",
       "CHEST (PORTABLE AP)                                    169270\n",
       "CHEST (PA & LAT)                                        43158\n",
       "CT HEAD W/O CONTRAST                                    34485\n",
       "CHEST PORT. LINE PLACEMENT                              21596\n",
       "PORTABLE ABDOMEN                                         8143\n",
       "                                                        ...  \n",
       "RP ART DUP EXT UP UNI LMTD RIGHT PORT                       1\n",
       "CYBER-INS MARKER PANCREAS                                   1\n",
       "OB WRIST(3 + VIEWS) IN O.R. BILAT                           1\n",
       "R MR ELBOW W&W/O CONTRATS RIGHT                             1\n",
       "RO HIP NAILING IN OR W/FILMS & FLUORO RIGHT IN O.R.         1\n",
       "Name: count, Length: 2438, dtype: int64"
      ]
     },
     "execution_count": 54,
     "metadata": {},
     "output_type": "execute_result"
    }
   ],
   "source": [
    "df_radiology['DESCRIPTION'].value_counts()"
   ]
  },
  {
   "cell_type": "code",
   "execution_count": 55,
   "metadata": {},
   "outputs": [
    {
     "data": {
      "text/plain": [
       "DESCRIPTION\n",
       "CHEST (PORTABLE AP)                       169270\n",
       "CHEST (PA & LAT)                           43158\n",
       "CT HEAD W/O CONTRAST                       34485\n",
       "CHEST PORT. LINE PLACEMENT                 21596\n",
       "PORTABLE ABDOMEN                            8143\n",
       "CHEST (PRE-OP PA & LAT)                     8064\n",
       "CT CHEST W/CONTRAST                         8001\n",
       "CT ABDOMEN W/CONTRAST                       7304\n",
       "MR HEAD W & W/O CONTRAST                    7062\n",
       "CT CHEST W/O CONTRAST                       6745\n",
       "CT C-SPINE W/O CONTRAST                     4840\n",
       "CT ABDOMEN W/O CONTRAST                     4823\n",
       "LIVER OR GALLBLADDER US (SINGLE ORGAN)      4761\n",
       "CTA CHEST W&W/O C&RECONS, NON-CORONARY      4499\n",
       "ABDOMEN (SUPINE & ERECT)                    4462\n",
       "BABYGRAM (CHEST ONLY)                       4412\n",
       "MR HEAD W/O CONTRAST                        3603\n",
       "BILAT LOWER EXT VEINS                       3443\n",
       "CAROTID SERIES COMPLETE                     3377\n",
       "RENAL U.S.                                  2960\n",
       "Name: count, dtype: int64"
      ]
     },
     "execution_count": 55,
     "metadata": {},
     "output_type": "execute_result"
    }
   ],
   "source": [
    "df_radiology['DESCRIPTION'].value_counts().head(20)"
   ]
  },
  {
   "cell_type": "code",
   "execution_count": 57,
   "metadata": {},
   "outputs": [
    {
     "data": {
      "text/plain": [
       "SUBJECT_ID\n",
       "3        23\n",
       "4        31\n",
       "6        13\n",
       "8         1\n",
       "9        10\n",
       "         ..\n",
       "99973     8\n",
       "99982    16\n",
       "99991     5\n",
       "99992     8\n",
       "99995    13\n",
       "Length: 37351, dtype: int64"
      ]
     },
     "execution_count": 57,
     "metadata": {},
     "output_type": "execute_result"
    }
   ],
   "source": [
    "# group by subject_id and count the number of notes\n",
    "df_radiology.groupby('SUBJECT_ID').size()"
   ]
  },
  {
   "cell_type": "code",
   "execution_count": 45,
   "metadata": {},
   "outputs": [
    {
     "name": "stdout",
     "output_type": "stream",
     "text": [
      "CCU NPN: PLEASE SEE FLOWSHEET FOR OBJECTIVE DATA\n",
      "\n",
      "CARDIAC: REMAINS MOSTLY VPACED 80-90'S OCC TO RARE PVC'S.BP WAS 94-100/50-60 AFTER LASIX BP NOW 85/50 MAP 67. DR [**Last Name (STitle) 3551**] CALLED\n",
      "\n",
      "RESP: NOW JUST WEARING 100%NRB OR BIPAP SATS TO HIGH 60'S TO 70'S OFF O2 ON O2 CAN BE 86-97\n",
      "\n",
      "VOLUME STATUS: GIVEN LASIX AT 4PM WITH GOOD RESPONSE NOW NEGATIVE BY 460CC.\n",
      "\n",
      "GU: UO 30-60CC/HR PRIOR TO LASIX.\n",
      "\n",
      "GI: VERY POOR APETITE. DR [**Last Name (STitle) 396**] CAME BY AND SUGGESTED PARENTAL NUTRITION,BOTH LINES OF PICK HAVE BEEN USED.\n",
      "\n",
      "SOCIAL: WIFE AND ONE OF HIS DAUGHTERS IN TO VISIT TODAY AND,\n",
      "SPOKE WITH DR [**Last Name (STitle) **]. FAMILY AND PT WOULD LIKE PT TO BE TRANSFERRED BACK TO [**Hospital3 **].\n",
      "\n"
     ]
    }
   ],
   "source": [
    "print(df_radiology['TEXT'].iloc[0])"
   ]
  },
  {
   "cell_type": "code",
   "execution_count": 46,
   "metadata": {},
   "outputs": [
    {
     "name": "stdout",
     "output_type": "stream",
     "text": [
      "CSRU NPN\n",
      "\n",
      "Neuro:  Propofol weaned to 10 mcg/kg/min.  Pt following commands, opens eyes minimally to request.  Denies pain by head nods.  Aggitated/restless at times-versed given w/ effect.  Left pupil 3mm, sluggish but reactive.\n",
      "\n",
      "CV:  Attempted v pacing for HR initially in 60's nsr->BP down, no change in CI. HR up to 70's NSR with wakefulness.  APC's noted this afternoon.  Lytes repleted as needed.  Neo weaned to off w/ stable BP. Vasopressin continues. Milrinone at .125 mcg/kg/min.  MVO@ mainly in low 60's.  CI 1.8-2 via CCO, 2.75 by FICK. [** **] gtt increased to 800u/hr for PTT 61.8-repeat PTT pending.  Hct stable at 27.\n",
      "\n",
      "Resp:  Weaned to CPAP w/ 12 IPS to maintain VT's approx 400cc, RR high teens at rest, up to 30's w/ aggitation.  CPAP ABG stable.  Suctioned for small amts clear to yellow sputum.\n",
      "\n",
      "GI:  Abd soft, ND, hypoactive BS.  TF off x 4 hours for residuals of 130-170cc.  Reglan continues. Restarted criticare at 20cc/hr. No BM today.\n",
      "\n",
      "GU:  u/o 5-20cc amber urine.  CVVHD continues with pt removal rate increased to 70cc/hr. CVVHD replacement fluid changed to D5W w/ 3 amps bicarb x 1 liter for metabolic acidosis.  Knee immobilizer to left leg d/t pt bending knees w/ restlessness.\n",
      "\n",
      "ID:  Afebrile.  Levofloxacin cont's.\n",
      "\n",
      "Endo:  Glucose controlled w/ insulin gtt titration.\n",
      "\n",
      "Skin:  Intact to back/buttocks.  Dark area of eschar left lower leg unchanged from Monday.  Sternal and left leg incisions OTA, clean.  Right great toe eschar unchanged.\n",
      "\n",
      "Social:  Husband called x 2 and updated on pt's condition.\n",
      "\n",
      "A:  Stable CI and MVO2 with vent wean to CPAP.  Off neo w/ good BP.  Poor toleration of tube feeds.\n",
      "\n",
      "P:  Rest on IMV overnight.  Propofol and versed to manage aggitation. Plan for doboff tube placement [**12-26**].  Per renal, CVVHD may be discontinued tomorrow.  Replete lytes prn.  Monitor acidosis.  Insulin gtt.  Monitor left lower leg eschar for worsening.\n",
      "\n"
     ]
    }
   ],
   "source": [
    "print(df_radiology['TEXT'].iloc[2])"
   ]
  },
  {
   "cell_type": "code",
   "execution_count": 47,
   "metadata": {},
   "outputs": [
    {
     "name": "stdout",
     "output_type": "stream",
     "text": [
      "RESPIRATORY NOTE:\n",
      "SEDATION IS BEING WEANED, CONTINUED ON MECH VENT. WEANED TO CPAP/PSV, TOL WELL. SPONT VT 400'S,RR 20'S. SPO2 100% ON 40% FIO2.LUNGS SLIGHTLY [**Month (only) **] ON L.SX'D SM AMT OF WHITE SEC.PLAN TO REST PT ON SIMV RATE FOR THE NIGHT AND WEAN ON CPAP TOMORROW AS TOL.\n",
      "\n"
     ]
    }
   ],
   "source": [
    "print(df_radiology['TEXT'].iloc[3])"
   ]
  },
  {
   "cell_type": "code",
   "execution_count": null,
   "metadata": {},
   "outputs": [],
   "source": []
  },
  {
   "cell_type": "code",
   "execution_count": null,
   "metadata": {},
   "outputs": [],
   "source": []
  },
  {
   "cell_type": "code",
   "execution_count": 17,
   "metadata": {},
   "outputs": [],
   "source": [
    "text = df_radiology['TEXT'].iloc[2]"
   ]
  },
  {
   "cell_type": "markdown",
   "metadata": {},
   "source": [
    "Data cleaning"
   ]
  },
  {
   "cell_type": "code",
   "execution_count": 19,
   "metadata": {},
   "outputs": [
    {
     "name": "stdout",
     "output_type": "stream",
     "text": [
      " 2:58 AM\n",
      " CT ABDOMEN W/CONTRAST; CT PELVIS W/CONTRAST                     Clip # \n",
      " CT,CORONAL,SAGITAL,OBL RECONSTRUCTION; CT 150CC NONIONIC CONTRAST\n",
      " Reason: evaluate for diverticulitis\n",
      "  Contrast: OPTIRAY Amt: 150\n",
      " ______________________________________________________________________________\n",
      "  MEDICAL CONDITION:\n",
      "  77 year old woman with h/o diverticuli s/p recent admit with diverticulitis and\n",
      "  lower GI bleed--CT showed thickening, stranding and paracolic fluid at left\n",
      "  descending and prox. sigmoid colon worrisome for diverticulitis vs ischemic\n",
      "  bowel vs hemorrhage into bowel wall. Presents with recurrent LLQ pain,\n",
      "  diarrhea. Please evaluate for diverticulitis, perforation.\n",
      " REASON FOR THIS EXAMINATION:\n",
      "  evaluate for diverticulitis\n",
      " ______________________________________________________________________________\n",
      "                                 FINAL REPORT\n",
      " HISTORY:  Diverticulitis.\n",
      "\n",
      " TECHNIQUE:  Helically acquired CT images of the lung bases through the pubic\n",
      " symphysis with contrast.\n",
      "\n",
      " CT ABDOMEN WITH CONTRAST:  Comparison made to prior CT scan dated .\n",
      " There is again demonstrated at the lung bases a 3 mm calcified granuloma at\n",
      " the left base but otherwise the lungs are clear. There are no pleural\n",
      " effusions. The liver, spleen, pancreas, adrenals, and kidneys are\n",
      " unremarkable. Again seen is a large 4 cm gallbladder stone. The gallbladder\n",
      " otherwise appears unremarkable. The bowel and upper abdomen appear\n",
      " unremarkable. No free fluid is seen.\n",
      "\n",
      " CT PELVIS WITH CONTRAST:  There has been marked interval improvement in the\n",
      " thickened sigmoid colon seen in the prior study. There are numerous\n",
      " diverticula and minimal stranding in the sigmoid colon which is likely due to\n",
      " clearing residual disease. No free fluid is seen. The kidneys demonstrate\n",
      " bilateral symmetrical contrast excretion with the ureters seen to course the\n",
      " bladder with no filling defects. The bladder appears unremarkable. No free\n",
      " fluid is present. No focal fluid collections are identified.\n",
      "\n",
      " BONE WINDOWS:  Bone demonstrate no suspicious lytic or blastic lesions.\n",
      "\n",
      " IMPRESSION: 1) Interval improvement in patient's sigmoid disease as in\n",
      " .  There is mild stranding of sigmoid colon which likely is related to\n",
      " residua of prior disease but cannot rule out an early diverticulitis.\n",
      "\n",
      "\n"
     ]
    }
   ],
   "source": [
    "import re\n",
    "\n",
    "def remove_bracketed(text: str) -> str:\n",
    "    \"\"\"\n",
    "    Removes bracketed expressions of the form [** ... **].\n",
    "    \"\"\"\n",
    "    # Regex that matches '[' then '**' then any characters (non-greedy) until '**' then ']'\n",
    "    cleaned_text = re.sub(r\"\\[\\*\\*.*?\\*\\*\\]\", \"\", text)\n",
    "    return cleaned_text\n",
    "\n",
    "cleaned_text = remove_bracketed(text)\n",
    "print(cleaned_text)\n"
   ]
  },
  {
   "cell_type": "code",
   "execution_count": 20,
   "metadata": {},
   "outputs": [
    {
     "name": "stdout",
     "output_type": "stream",
     "text": [
      "2:58 am ct abdomen w/contrast; ct pelvis w/contrast clip # ct,coronal,sagital,obl reconstruction; ct 150cc nonionic contrast reason: evaluate for diverticulitis contrast: optiray amt: 150 ______________________________________________________________________________ medical condition: 77 year old woman with h/o diverticuli s/p recent admit with diverticulitis and lower gi bleed--ct showed thickening, stranding and paracolic fluid at left descending and prox. sigmoid colon worrisome for diverticulitis vs ischemic bowel vs hemorrhage into bowel wall. presents with recurrent llq pain, diarrhea. please evaluate for diverticulitis, perforation. reason for this examination: evaluate for diverticulitis ______________________________________________________________________________ final report history: diverticulitis. technique: helically acquired ct images of the lung bases through the pubic symphysis with contrast. ct abdomen with contrast: comparison made to prior ct scan dated . there is again demonstrated at the lung bases a 3 mm calcified granuloma at the left base but otherwise the lungs are clear. there are no pleural effusions. the liver, spleen, pancreas, adrenals, and kidneys are unremarkable. again seen is a large 4 cm gallbladder stone. the gallbladder otherwise appears unremarkable. the bowel and upper abdomen appear unremarkable. no free fluid is seen. ct pelvis with contrast: there has been marked interval improvement in the thickened sigmoid colon seen in the prior study. there are numerous diverticula and minimal stranding in the sigmoid colon which is likely due to clearing residual disease. no free fluid is seen. the kidneys demonstrate bilateral symmetrical contrast excretion with the ureters seen to course the bladder with no filling defects. the bladder appears unremarkable. no free fluid is present. no focal fluid collections are identified. bone windows: bone demonstrate no suspicious lytic or blastic lesions. impression: 1) interval improvement in patient's sigmoid disease as in . there is mild stranding of sigmoid colon which likely is related to residua of prior disease but cannot rule out an early diverticulitis.\n"
     ]
    }
   ],
   "source": [
    "def basic_normalize(text: str) -> str:\n",
    "    # Lowercase\n",
    "    text = text.lower()\n",
    "    # Remove extra spaces\n",
    "    text = re.sub(r'\\s+', ' ', text).strip()\n",
    "    return text\n",
    "\n",
    "normalized_text = basic_normalize(cleaned_text)\n",
    "print(normalized_text)\n"
   ]
  },
  {
   "cell_type": "code",
   "execution_count": null,
   "metadata": {},
   "outputs": [],
   "source": []
  },
  {
   "cell_type": "code",
   "execution_count": 24,
   "metadata": {},
   "outputs": [
    {
     "name": "stdout",
     "output_type": "stream",
     "text": [
      "Extracted MEDICAL CONDITION:\n",
      "77 year old woman with h/o diverticuli s/p recent admit with diverticulitis and lower gi bleed--ct showed thickening, stranding and paracolic fluid at left descending and prox. sigmoid colon worrisome for diverticulitis vs ischemic bowel vs hemorrhage into bowel wall. presents with recurrent llq pain, diarrhea. please evaluate for diverticulitis, perforation.\n"
     ]
    }
   ],
   "source": [
    "# def extract_medical_condition(text: str) -> str:\n",
    "#     \"\"\"\n",
    "#     Extracts the text following the 'MEDICAL CONDITION:' heading\n",
    "#     up until the next heading or blank line.\n",
    "#     \"\"\"\n",
    "#     # This regex tries to capture 'MEDICAL CONDITION:' (case-insensitive)\n",
    "#     # and then grab everything until we reach 'REASON FOR THIS EXAMINATION:',\n",
    "#     # 'FINAL REPORT', or a line of underscores, etc.\n",
    "    \n",
    "#     pattern = re.compile(\n",
    "#         r\"(?<=medical condition:\\s?)(.*?)(?=(?:reason for this examination|final report|_{2,}|$))\",\n",
    "#         re.IGNORECASE | re.DOTALL\n",
    "#     )\n",
    "    \n",
    "#     match = pattern.search(text)\n",
    "#     if match:\n",
    "#         return match.group(1).strip()\n",
    "#     else:\n",
    "#         return \"\"\n",
    "\n",
    "\n",
    "import re\n",
    "\n",
    "def extract_medical_condition(text: str) -> str:\n",
    "    \"\"\"\n",
    "    Extracts the text after 'medical condition:' heading until we hit\n",
    "    'reason for this examination', 'final report', or underscores.\n",
    "    \"\"\"\n",
    "    pattern = re.compile(\n",
    "        # Grab \"medical condition:\", then capture everything until\n",
    "        # 'reason for this examination', 'final report', or underscores\n",
    "        r\"medical condition:\\s?(.*?)(?=reason for this examination|final report|_{2,}|$)\",\n",
    "        re.IGNORECASE | re.DOTALL\n",
    "    )\n",
    "    \n",
    "    match = pattern.search(text)\n",
    "    if match:\n",
    "        return match.group(1).strip()\n",
    "    else:\n",
    "        return \"\"\n",
    "\n",
    "\n",
    "medical_condition_section = extract_medical_condition(normalized_text)\n",
    "print(\"Extracted MEDICAL CONDITION:\")\n",
    "print(medical_condition_section)\n"
   ]
  },
  {
   "cell_type": "code",
   "execution_count": 23,
   "metadata": {},
   "outputs": [
    {
     "name": "stdout",
     "output_type": "stream",
     "text": [
      "Extracted FINAL REPORT Section:\n",
      "history: diverticulitis. technique: helically acquired ct images of the lung bases through the pubic symphysis with contrast. ct abdomen with contrast: comparison made to prior ct scan dated . there is again demonstrated at the lung bases a 3 mm calcified granuloma at the left base but otherwise the lungs are clear. there are no pleural effusions. the liver, spleen, pancreas, adrenals, and kidneys are unremarkable. again seen is a large 4 cm gallbladder stone. the gallbladder otherwise appears unremarkable. the bowel and upper abdomen appear unremarkable. no free fluid is seen. ct pelvis with contrast: there has been marked interval improvement in the thickened sigmoid colon seen in the prior study. there are numerous diverticula and minimal stranding in the sigmoid colon which is likely due to clearing residual disease. no free fluid is seen. the kidneys demonstrate bilateral symmetrical contrast excretion with the ureters seen to course the bladder with no filling defects. the bladder appears unremarkable. no free fluid is present. no focal fluid collections are identified. bone windows: bone demonstrate no suspicious lytic or blastic lesions.\n"
     ]
    }
   ],
   "source": [
    "def extract_final_report(text: str) -> str:\n",
    "    \"\"\"\n",
    "    Extract the text from 'FINAL REPORT' (or 'REPORT') until \n",
    "    the next large heading or the end of the document.\n",
    "    \"\"\"\n",
    "    pattern = re.compile(\n",
    "        r\"(?<=final report)(.*?)(?=(?:impression|_{2,}|$))\",\n",
    "        re.IGNORECASE | re.DOTALL\n",
    "    )\n",
    "    \n",
    "    match = pattern.search(text)\n",
    "    if match:\n",
    "        return match.group(1).strip()\n",
    "    else:\n",
    "        return \"\"\n",
    "\n",
    "final_report_section = extract_final_report(normalized_text)\n",
    "print(\"Extracted FINAL REPORT Section:\")\n",
    "print(final_report_section)\n"
   ]
  },
  {
   "cell_type": "code",
   "execution_count": null,
   "metadata": {},
   "outputs": [],
   "source": []
  },
  {
   "cell_type": "code",
   "execution_count": null,
   "metadata": {},
   "outputs": [],
   "source": [
    "print(df_radiology['TEXT'].iloc[0])"
   ]
  },
  {
   "cell_type": "code",
   "execution_count": null,
   "metadata": {},
   "outputs": [],
   "source": []
  },
  {
   "cell_type": "code",
   "execution_count": null,
   "metadata": {},
   "outputs": [],
   "source": []
  },
  {
   "cell_type": "code",
   "execution_count": null,
   "metadata": {},
   "outputs": [],
   "source": []
  },
  {
   "cell_type": "code",
   "execution_count": null,
   "metadata": {},
   "outputs": [],
   "source": []
  },
  {
   "cell_type": "code",
   "execution_count": null,
   "metadata": {},
   "outputs": [],
   "source": []
  },
  {
   "cell_type": "code",
   "execution_count": null,
   "metadata": {},
   "outputs": [],
   "source": []
  }
 ],
 "metadata": {
  "kernelspec": {
   "display_name": "pymc_env",
   "language": "python",
   "name": "python3"
  },
  "language_info": {
   "codemirror_mode": {
    "name": "ipython",
    "version": 3
   },
   "file_extension": ".py",
   "mimetype": "text/x-python",
   "name": "python",
   "nbconvert_exporter": "python",
   "pygments_lexer": "ipython3",
   "version": "3.12.8"
  }
 },
 "nbformat": 4,
 "nbformat_minor": 2
}
